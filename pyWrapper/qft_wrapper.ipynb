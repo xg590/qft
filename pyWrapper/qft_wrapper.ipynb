{
 "cells": [
  {
   "cell_type": "code",
   "execution_count": null,
   "id": "0dbe0d5f",
   "metadata": {
    "ExecuteTime": {
     "end_time": "2023-02-27T08:27:38.486164Z",
     "start_time": "2023-02-27T08:27:38.473997Z"
    }
   },
   "outputs": [],
   "source": [
    "import json,  random\n",
    "with open('www.wordfrequency.info.json', 'r') as fr: \n",
    "    word = json.load(fr) \n",
    "\n",
    "key = '-'.join(word[i][random.randint(0,512)] for i in ['4','4','4','5','5','5']) # unique ? 1/512^6\n",
    "nonce = '-'.join(word[i][random.randint(0,512)] for i in ['5','6'])\n",
    "print({'key':key, 'nonce':nonce})\n",
    "key   = key.encode('utf8')\n",
    "nonce = nonce.encode('utf8')"
   ]
  },
  {
   "cell_type": "code",
   "execution_count": null,
   "id": "176b04b3",
   "metadata": {
    "ExecuteTime": {
     "end_time": "2023-02-27T08:27:39.337778Z",
     "start_time": "2023-02-27T08:27:39.245841Z"
    }
   },
   "outputs": [],
   "source": [
    "import shlex, subprocess   \n",
    "from Crypto.Cipher import ChaCha20_Poly1305\n",
    "\n",
    "cipher   = ChaCha20_Poly1305.new(key=key, nonce=nonce) \n",
    "with subprocess.Popen(shlex.split(\"./qft sender guoxiaokang.com:54321 cool_key /dev/stdin 1000\"), \n",
    "                        stdin=subprocess.PIPE, \n",
    "                       stderr=subprocess.PIPE, \n",
    "                       stdout=subprocess.PIPE) as proc, open('433.mp4','rb') as fr: \n",
    "    while 1: \n",
    "        data = fr.read(200) \n",
    "        if not data:break\n",
    "        ciphertext = cipher.encrypt(data)   \n",
    "        try:\n",
    "            proc.stdin.write(data)\n",
    "            #proc.stdin.flush()\n",
    "        except IOError as e:\n",
    "            print(e) \n",
    "            break\n",
    "        \n",
    "    MAC = cipher.digest()\n",
    "    proc.stdin.close()\n",
    "    proc.wait()"
   ]
  },
  {
   "cell_type": "code",
   "execution_count": null,
   "id": "c0042c51",
   "metadata": {
    "ExecuteTime": {
     "end_time": "2023-02-27T08:27:51.249501Z",
     "start_time": "2023-02-27T08:27:51.242331Z"
    }
   },
   "outputs": [],
   "source": [
    "decipher = ChaCha20_Poly1305.new(key=key, nonce=nonce_rfc7539)\n",
    "with open('ChatGPT.webm','wb') as fr:\n",
    "    while 1:\n",
    "        data = fr.read(200)\n",
    "        if not data:break \n",
    "        text = decipher.decrypt(ciphertext) \n",
    "decipher.verify(MAC)"
   ]
  }
 ],
 "metadata": {
  "kernelspec": {
   "display_name": "Python 3 (ipykernel)",
   "language": "python",
   "name": "python3"
  },
  "language_info": {
   "codemirror_mode": {
    "name": "ipython",
    "version": 3
   },
   "file_extension": ".py",
   "mimetype": "text/x-python",
   "name": "python",
   "nbconvert_exporter": "python",
   "pygments_lexer": "ipython3",
   "version": "3.11.2"
  }
 },
 "nbformat": 4,
 "nbformat_minor": 5
}
