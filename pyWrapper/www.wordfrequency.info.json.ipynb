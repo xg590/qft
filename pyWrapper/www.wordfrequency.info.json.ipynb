{
 "cells": [
  {
   "cell_type": "code",
   "execution_count": 1,
   "id": "e0dfb44a",
   "metadata": {
    "ExecuteTime": {
     "end_time": "2023-02-27T06:27:15.973262Z",
     "start_time": "2023-02-27T06:27:15.970127Z"
    }
   },
   "outputs": [],
   "source": [
    "#pip install pycryptodome"
   ]
  },
  {
   "cell_type": "code",
   "execution_count": 2,
   "id": "3a6e299d",
   "metadata": {
    "ExecuteTime": {
     "end_time": "2023-02-27T06:27:16.368930Z",
     "start_time": "2023-02-27T06:27:15.976330Z"
    }
   },
   "outputs": [
    {
     "data": {
      "text/html": [
       "<div>\n",
       "<style scoped>\n",
       "    .dataframe tbody tr th:only-of-type {\n",
       "        vertical-align: middle;\n",
       "    }\n",
       "\n",
       "    .dataframe tbody tr th {\n",
       "        vertical-align: top;\n",
       "    }\n",
       "\n",
       "    .dataframe thead th {\n",
       "        text-align: right;\n",
       "    }\n",
       "</style>\n",
       "<table border=\"1\" class=\"dataframe\">\n",
       "  <thead>\n",
       "    <tr style=\"text-align: right;\">\n",
       "      <th></th>\n",
       "      <th>rank</th>\n",
       "      <th>word</th>\n",
       "      <th>freq</th>\n",
       "      <th>#texts</th>\n",
       "      <th>%caps</th>\n",
       "      <th>blog</th>\n",
       "      <th>web</th>\n",
       "      <th>TVM</th>\n",
       "      <th>spok</th>\n",
       "      <th>fic</th>\n",
       "      <th>...</th>\n",
       "      <th>news</th>\n",
       "      <th>acad</th>\n",
       "      <th>blogPM</th>\n",
       "      <th>webPM</th>\n",
       "      <th>TVMPM</th>\n",
       "      <th>spokPM</th>\n",
       "      <th>ficPM</th>\n",
       "      <th>magPM</th>\n",
       "      <th>newsPM</th>\n",
       "      <th>acadPM</th>\n",
       "    </tr>\n",
       "  </thead>\n",
       "  <tbody>\n",
       "    <tr>\n",
       "      <th>0</th>\n",
       "      <td>15</td>\n",
       "      <td>a</td>\n",
       "      <td>21889251</td>\n",
       "      <td>477421</td>\n",
       "      <td>0.05</td>\n",
       "      <td>2783458</td>\n",
       "      <td>2827106</td>\n",
       "      <td>2519099</td>\n",
       "      <td>2716641</td>\n",
       "      <td>2749208</td>\n",
       "      <td>...</td>\n",
       "      <td>2959649</td>\n",
       "      <td>2229222</td>\n",
       "      <td>22401.41</td>\n",
       "      <td>21981.44</td>\n",
       "      <td>19669.01</td>\n",
       "      <td>21537.47</td>\n",
       "      <td>23234.95</td>\n",
       "      <td>24619.48</td>\n",
       "      <td>24310.83</td>\n",
       "      <td>18609.35</td>\n",
       "    </tr>\n",
       "  </tbody>\n",
       "</table>\n",
       "<p>1 rows × 21 columns</p>\n",
       "</div>"
      ],
      "text/plain": [
       "   rank word      freq  #texts  %caps     blog      web      TVM     spok  \\\n",
       "0    15    a  21889251  477421   0.05  2783458  2827106  2519099  2716641   \n",
       "\n",
       "       fic  ...     news     acad    blogPM     webPM     TVMPM    spokPM  \\\n",
       "0  2749208  ...  2959649  2229222  22401.41  21981.44  19669.01  21537.47   \n",
       "\n",
       "      ficPM     magPM    newsPM    acadPM  \n",
       "0  23234.95  24619.48  24310.83  18609.35  \n",
       "\n",
       "[1 rows x 21 columns]"
      ]
     },
     "execution_count": 2,
     "metadata": {},
     "output_type": "execute_result"
    }
   ],
   "source": [
    "import pandas as pd\n",
    "df = pd.read_csv('words_219k.csv') \n",
    "df = df[df['word'].notna()]\n",
    "df.head(1)"
   ]
  },
  {
   "cell_type": "code",
   "execution_count": 3,
   "id": "eb3c0fca",
   "metadata": {
    "ExecuteTime": {
     "end_time": "2023-02-27T06:27:16.389280Z",
     "start_time": "2023-02-27T06:27:16.370671Z"
    }
   },
   "outputs": [
    {
     "data": {
      "text/plain": [
       "(1024, 1024, 1024)"
      ]
     },
     "execution_count": 3,
     "metadata": {},
     "output_type": "execute_result"
    }
   ],
   "source": [
    "a = {}\n",
    "for i,j in enumerate(df['word'].unique()):\n",
    "    if len(j)>6 or len(j)<4:\n",
    "        continue\n",
    "    if len(j) in a:\n",
    "        if len(a[len(j)])>1023: continue\n",
    "        a[len(j)].append(j[0].upper()+j[1:])\n",
    "    else:\n",
    "        a[len(j)] = []\n",
    "len(a[4]), len(a[5]), len(a[6])"
   ]
  },
  {
   "cell_type": "code",
   "execution_count": 4,
   "id": "0a4bb6e4",
   "metadata": {
    "ExecuteTime": {
     "end_time": "2023-02-27T06:27:16.396254Z",
     "start_time": "2023-02-27T06:27:16.391514Z"
    }
   },
   "outputs": [],
   "source": [
    "import json\n",
    "with open('www.wordfrequency.info.json', 'w') as fw: json.dump(a, fp=fw)"
   ]
  }
 ],
 "metadata": {
  "kernelspec": {
   "display_name": "Python 3 (ipykernel)",
   "language": "python",
   "name": "python3"
  },
  "language_info": {
   "codemirror_mode": {
    "name": "ipython",
    "version": 3
   },
   "file_extension": ".py",
   "mimetype": "text/x-python",
   "name": "python",
   "nbconvert_exporter": "python",
   "pygments_lexer": "ipython3",
   "version": "3.11.2"
  }
 },
 "nbformat": 4,
 "nbformat_minor": 5
}
